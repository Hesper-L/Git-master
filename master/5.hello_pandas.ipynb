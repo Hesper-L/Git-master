{
 "cells": [
  {
   "cell_type": "code",
   "execution_count": 1,
   "metadata": {},
   "outputs": [],
   "source": [
    "import pandas as pd\n",
    "import numpy as np"
   ]
  },
  {
   "cell_type": "markdown",
   "metadata": {},
   "source": [
    "# pandas案例导入"
   ]
  },
  {
   "cell_type": "code",
   "execution_count": 3,
   "metadata": {},
   "outputs": [],
   "source": [
    "stock_change = np.random.normal(0,1,(10,5))"
   ]
  },
  {
   "cell_type": "code",
   "execution_count": 4,
   "metadata": {},
   "outputs": [
    {
     "data": {
      "text/plain": [
       "array([[ 0.08343991, -0.28249151,  1.36957736, -1.50071887,  1.02060783],\n",
       "       [ 0.39564944,  0.17280908, -0.32195439, -0.89492377, -1.92766169],\n",
       "       [ 0.91566404, -0.7585662 ,  0.11985437,  0.13007032, -2.03371952],\n",
       "       [-1.10554147,  1.51458214, -0.97254897, -0.3899128 , -0.77392076],\n",
       "       [-0.82283166,  0.23691175, -0.60872465, -1.86951674, -1.22711333],\n",
       "       [-1.14574836, -3.19900471, -0.94691326, -1.00264727, -1.25479643],\n",
       "       [ 1.77118286,  1.52637774,  0.05159597, -1.57344275,  0.27804093],\n",
       "       [ 0.58622494, -1.71107817,  0.17302269, -1.05548224, -1.10298019],\n",
       "       [ 0.65138583,  0.50477859, -0.3600423 ,  0.71104434, -0.31900645],\n",
       "       [ 0.24081617,  0.59669807,  0.84380307, -0.33765178,  0.85937824]])"
      ]
     },
     "execution_count": 4,
     "metadata": {},
     "output_type": "execute_result"
    }
   ],
   "source": [
    "stock_change"
   ]
  },
  {
   "cell_type": "code",
   "execution_count": 6,
   "metadata": {},
   "outputs": [],
   "source": [
    "stock_rise = pd.DataFrame(stock_change)"
   ]
  },
  {
   "cell_type": "code",
   "execution_count": 7,
   "metadata": {},
   "outputs": [
    {
     "data": {
      "text/html": [
       "<div>\n",
       "<style scoped>\n",
       "    .dataframe tbody tr th:only-of-type {\n",
       "        vertical-align: middle;\n",
       "    }\n",
       "\n",
       "    .dataframe tbody tr th {\n",
       "        vertical-align: top;\n",
       "    }\n",
       "\n",
       "    .dataframe thead th {\n",
       "        text-align: right;\n",
       "    }\n",
       "</style>\n",
       "<table border=\"1\" class=\"dataframe\">\n",
       "  <thead>\n",
       "    <tr style=\"text-align: right;\">\n",
       "      <th></th>\n",
       "      <th>0</th>\n",
       "      <th>1</th>\n",
       "      <th>2</th>\n",
       "      <th>3</th>\n",
       "      <th>4</th>\n",
       "    </tr>\n",
       "  </thead>\n",
       "  <tbody>\n",
       "    <tr>\n",
       "      <th>0</th>\n",
       "      <td>0.083440</td>\n",
       "      <td>-0.282492</td>\n",
       "      <td>1.369577</td>\n",
       "      <td>-1.500719</td>\n",
       "      <td>1.020608</td>\n",
       "    </tr>\n",
       "    <tr>\n",
       "      <th>1</th>\n",
       "      <td>0.395649</td>\n",
       "      <td>0.172809</td>\n",
       "      <td>-0.321954</td>\n",
       "      <td>-0.894924</td>\n",
       "      <td>-1.927662</td>\n",
       "    </tr>\n",
       "    <tr>\n",
       "      <th>2</th>\n",
       "      <td>0.915664</td>\n",
       "      <td>-0.758566</td>\n",
       "      <td>0.119854</td>\n",
       "      <td>0.130070</td>\n",
       "      <td>-2.033720</td>\n",
       "    </tr>\n",
       "    <tr>\n",
       "      <th>3</th>\n",
       "      <td>-1.105541</td>\n",
       "      <td>1.514582</td>\n",
       "      <td>-0.972549</td>\n",
       "      <td>-0.389913</td>\n",
       "      <td>-0.773921</td>\n",
       "    </tr>\n",
       "    <tr>\n",
       "      <th>4</th>\n",
       "      <td>-0.822832</td>\n",
       "      <td>0.236912</td>\n",
       "      <td>-0.608725</td>\n",
       "      <td>-1.869517</td>\n",
       "      <td>-1.227113</td>\n",
       "    </tr>\n",
       "    <tr>\n",
       "      <th>5</th>\n",
       "      <td>-1.145748</td>\n",
       "      <td>-3.199005</td>\n",
       "      <td>-0.946913</td>\n",
       "      <td>-1.002647</td>\n",
       "      <td>-1.254796</td>\n",
       "    </tr>\n",
       "    <tr>\n",
       "      <th>6</th>\n",
       "      <td>1.771183</td>\n",
       "      <td>1.526378</td>\n",
       "      <td>0.051596</td>\n",
       "      <td>-1.573443</td>\n",
       "      <td>0.278041</td>\n",
       "    </tr>\n",
       "    <tr>\n",
       "      <th>7</th>\n",
       "      <td>0.586225</td>\n",
       "      <td>-1.711078</td>\n",
       "      <td>0.173023</td>\n",
       "      <td>-1.055482</td>\n",
       "      <td>-1.102980</td>\n",
       "    </tr>\n",
       "    <tr>\n",
       "      <th>8</th>\n",
       "      <td>0.651386</td>\n",
       "      <td>0.504779</td>\n",
       "      <td>-0.360042</td>\n",
       "      <td>0.711044</td>\n",
       "      <td>-0.319006</td>\n",
       "    </tr>\n",
       "    <tr>\n",
       "      <th>9</th>\n",
       "      <td>0.240816</td>\n",
       "      <td>0.596698</td>\n",
       "      <td>0.843803</td>\n",
       "      <td>-0.337652</td>\n",
       "      <td>0.859378</td>\n",
       "    </tr>\n",
       "  </tbody>\n",
       "</table>\n",
       "</div>"
      ],
      "text/plain": [
       "          0         1         2         3         4\n",
       "0  0.083440 -0.282492  1.369577 -1.500719  1.020608\n",
       "1  0.395649  0.172809 -0.321954 -0.894924 -1.927662\n",
       "2  0.915664 -0.758566  0.119854  0.130070 -2.033720\n",
       "3 -1.105541  1.514582 -0.972549 -0.389913 -0.773921\n",
       "4 -0.822832  0.236912 -0.608725 -1.869517 -1.227113\n",
       "5 -1.145748 -3.199005 -0.946913 -1.002647 -1.254796\n",
       "6  1.771183  1.526378  0.051596 -1.573443  0.278041\n",
       "7  0.586225 -1.711078  0.173023 -1.055482 -1.102980\n",
       "8  0.651386  0.504779 -0.360042  0.711044 -0.319006\n",
       "9  0.240816  0.596698  0.843803 -0.337652  0.859378"
      ]
     },
     "execution_count": 7,
     "metadata": {},
     "output_type": "execute_result"
    }
   ],
   "source": [
    "stock_rise"
   ]
  },
  {
   "cell_type": "code",
   "execution_count": 9,
   "metadata": {},
   "outputs": [
    {
     "data": {
      "text/plain": [
       "10"
      ]
     },
     "execution_count": 9,
     "metadata": {},
     "output_type": "execute_result"
    }
   ],
   "source": [
    "stock_rise.shape[0]"
   ]
  },
  {
   "cell_type": "code",
   "execution_count": 10,
   "metadata": {},
   "outputs": [],
   "source": [
    "stock_code = ['股票{}'.format(i+1) for i in range(stock_rise.shape[0])]"
   ]
  },
  {
   "cell_type": "code",
   "execution_count": 11,
   "metadata": {},
   "outputs": [
    {
     "data": {
      "text/plain": [
       "['股票1', '股票2', '股票3', '股票4', '股票5', '股票6', '股票7', '股票8', '股票9', '股票10']"
      ]
     },
     "execution_count": 11,
     "metadata": {},
     "output_type": "execute_result"
    }
   ],
   "source": [
    "stock_code"
   ]
  },
  {
   "cell_type": "code",
   "execution_count": 12,
   "metadata": {},
   "outputs": [
    {
     "data": {
      "text/html": [
       "<div>\n",
       "<style scoped>\n",
       "    .dataframe tbody tr th:only-of-type {\n",
       "        vertical-align: middle;\n",
       "    }\n",
       "\n",
       "    .dataframe tbody tr th {\n",
       "        vertical-align: top;\n",
       "    }\n",
       "\n",
       "    .dataframe thead th {\n",
       "        text-align: right;\n",
       "    }\n",
       "</style>\n",
       "<table border=\"1\" class=\"dataframe\">\n",
       "  <thead>\n",
       "    <tr style=\"text-align: right;\">\n",
       "      <th></th>\n",
       "      <th>0</th>\n",
       "      <th>1</th>\n",
       "      <th>2</th>\n",
       "      <th>3</th>\n",
       "      <th>4</th>\n",
       "    </tr>\n",
       "  </thead>\n",
       "  <tbody>\n",
       "    <tr>\n",
       "      <th>股票1</th>\n",
       "      <td>0.083440</td>\n",
       "      <td>-0.282492</td>\n",
       "      <td>1.369577</td>\n",
       "      <td>-1.500719</td>\n",
       "      <td>1.020608</td>\n",
       "    </tr>\n",
       "    <tr>\n",
       "      <th>股票2</th>\n",
       "      <td>0.395649</td>\n",
       "      <td>0.172809</td>\n",
       "      <td>-0.321954</td>\n",
       "      <td>-0.894924</td>\n",
       "      <td>-1.927662</td>\n",
       "    </tr>\n",
       "    <tr>\n",
       "      <th>股票3</th>\n",
       "      <td>0.915664</td>\n",
       "      <td>-0.758566</td>\n",
       "      <td>0.119854</td>\n",
       "      <td>0.130070</td>\n",
       "      <td>-2.033720</td>\n",
       "    </tr>\n",
       "    <tr>\n",
       "      <th>股票4</th>\n",
       "      <td>-1.105541</td>\n",
       "      <td>1.514582</td>\n",
       "      <td>-0.972549</td>\n",
       "      <td>-0.389913</td>\n",
       "      <td>-0.773921</td>\n",
       "    </tr>\n",
       "    <tr>\n",
       "      <th>股票5</th>\n",
       "      <td>-0.822832</td>\n",
       "      <td>0.236912</td>\n",
       "      <td>-0.608725</td>\n",
       "      <td>-1.869517</td>\n",
       "      <td>-1.227113</td>\n",
       "    </tr>\n",
       "    <tr>\n",
       "      <th>股票6</th>\n",
       "      <td>-1.145748</td>\n",
       "      <td>-3.199005</td>\n",
       "      <td>-0.946913</td>\n",
       "      <td>-1.002647</td>\n",
       "      <td>-1.254796</td>\n",
       "    </tr>\n",
       "    <tr>\n",
       "      <th>股票7</th>\n",
       "      <td>1.771183</td>\n",
       "      <td>1.526378</td>\n",
       "      <td>0.051596</td>\n",
       "      <td>-1.573443</td>\n",
       "      <td>0.278041</td>\n",
       "    </tr>\n",
       "    <tr>\n",
       "      <th>股票8</th>\n",
       "      <td>0.586225</td>\n",
       "      <td>-1.711078</td>\n",
       "      <td>0.173023</td>\n",
       "      <td>-1.055482</td>\n",
       "      <td>-1.102980</td>\n",
       "    </tr>\n",
       "    <tr>\n",
       "      <th>股票9</th>\n",
       "      <td>0.651386</td>\n",
       "      <td>0.504779</td>\n",
       "      <td>-0.360042</td>\n",
       "      <td>0.711044</td>\n",
       "      <td>-0.319006</td>\n",
       "    </tr>\n",
       "    <tr>\n",
       "      <th>股票10</th>\n",
       "      <td>0.240816</td>\n",
       "      <td>0.596698</td>\n",
       "      <td>0.843803</td>\n",
       "      <td>-0.337652</td>\n",
       "      <td>0.859378</td>\n",
       "    </tr>\n",
       "  </tbody>\n",
       "</table>\n",
       "</div>"
      ],
      "text/plain": [
       "             0         1         2         3         4\n",
       "股票1   0.083440 -0.282492  1.369577 -1.500719  1.020608\n",
       "股票2   0.395649  0.172809 -0.321954 -0.894924 -1.927662\n",
       "股票3   0.915664 -0.758566  0.119854  0.130070 -2.033720\n",
       "股票4  -1.105541  1.514582 -0.972549 -0.389913 -0.773921\n",
       "股票5  -0.822832  0.236912 -0.608725 -1.869517 -1.227113\n",
       "股票6  -1.145748 -3.199005 -0.946913 -1.002647 -1.254796\n",
       "股票7   1.771183  1.526378  0.051596 -1.573443  0.278041\n",
       "股票8   0.586225 -1.711078  0.173023 -1.055482 -1.102980\n",
       "股票9   0.651386  0.504779 -0.360042  0.711044 -0.319006\n",
       "股票10  0.240816  0.596698  0.843803 -0.337652  0.859378"
      ]
     },
     "execution_count": 12,
     "metadata": {},
     "output_type": "execute_result"
    }
   ],
   "source": [
    "pd.DataFrame(stock_change,index=stock_code)"
   ]
  },
  {
   "cell_type": "code",
   "execution_count": null,
   "metadata": {},
   "outputs": [],
   "source": []
  }
 ],
 "metadata": {
  "kernelspec": {
   "display_name": "Python 3",
   "language": "python",
   "name": "python3"
  },
  "language_info": {
   "codemirror_mode": {
    "name": "ipython",
    "version": 3
   },
   "file_extension": ".py",
   "mimetype": "text/x-python",
   "name": "python",
   "nbconvert_exporter": "python",
   "pygments_lexer": "ipython3",
   "version": "3.8.5"
  },
  "toc": {
   "base_numbering": 1,
   "nav_menu": {
    "height": "63px",
    "width": "160px"
   },
   "number_sections": true,
   "sideBar": true,
   "skip_h1_title": false,
   "title_cell": "Table of Contents",
   "title_sidebar": "Contents",
   "toc_cell": false,
   "toc_position": {},
   "toc_section_display": true,
   "toc_window_display": true
  }
 },
 "nbformat": 4,
 "nbformat_minor": 4
}
